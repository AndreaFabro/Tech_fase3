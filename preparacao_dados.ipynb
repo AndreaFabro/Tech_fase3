{
  "nbformat": 4,
  "nbformat_minor": 0,
  "metadata": {
    "colab": {
      "provenance": [],
      "include_colab_link": true
    },
    "kernelspec": {
      "name": "python3",
      "display_name": "Python 3"
    },
    "language_info": {
      "name": "python"
    }
  },
  "cells": [
    {
      "cell_type": "markdown",
      "metadata": {
        "id": "view-in-github",
        "colab_type": "text"
      },
      "source": [
        "<a href=\"https://colab.research.google.com/github/AndreaFabro/Tech_fase3/blob/main/preparacao_dados.ipynb\" target=\"_parent\"><img src=\"https://colab.research.google.com/assets/colab-badge.svg\" alt=\"Open In Colab\"/></a>"
      ]
    },
    {
      "cell_type": "code",
      "source": [
        "#Conexão com o Google Drive\n",
        "#Para utilizar o repositorio para guardar o arquivo gerado\n",
        "from google.colab import drive\n",
        "drive.mount('/content/drive')"
      ],
      "metadata": {
        "id": "ZRRzGpR0av3o",
        "colab": {
          "base_uri": "https://localhost:8080/"
        },
        "outputId": "013197a2-47a7-43a6-a7a1-5ea2bd1d5d9a"
      },
      "execution_count": 1,
      "outputs": [
        {
          "output_type": "stream",
          "name": "stdout",
          "text": [
            "Mounted at /content/drive\n"
          ]
        }
      ]
    },
    {
      "cell_type": "code",
      "execution_count": 7,
      "metadata": {
        "id": "VvXIUylQYIEr"
      },
      "outputs": [],
      "source": [
        "import json\n",
        "\n",
        "# Formatar cada linha de produto incluindo marcadores de inicio e fim de sentença\n",
        "# formato: instrução, input, output\n",
        "\n",
        "def process_line_complementary_dataset(item):\n",
        "    #Processa cada linha do arquivo JSON\n",
        "      return {\n",
        "        "input": f\"DESCRIBE THIS PRODUCTS.\\n[|Title|] {item['title']}[|eTitle|]\\n\\n[|Content|]{item['content']}[|eContent|]\"\n",
        "        }\n",
        "\n",
        "def process_titles_contents_file(file_path, processed_data):\n",
        "    #Lê um arquivo JSON do nosso dataset, processa cada produto para formatar conforme o solicitado e adiciona à lista processed_data\n",
        "    with open(file_path, 'r', encoding='utf-8') as file:\n",
        "        json_data = json.load(file)\n",
        "        titles_list = json_data[\"titles_contents\"]\n",
        "\n",
        "        for item in titles_list:\n",
        "            title = item[\"title\"]\n",
        "            content = item[\"content\"]\n",
        "            if content and content.strip():\n",
        "              formatted_text = f\"DESCRIBE THIS PRODUCTS.\\n[|Title|] {title}[|eTitle|]\\n\\n[|Content|]{content}[|eContent|]\"\n",
        "              processed_data.append({\"input\": formatted_text})\n"
      ]
    },
    {
      "cell_type": "code",
      "source": [
        "\n",
        "# Lista para armazenar todos os dados processados\n",
        "processed_data = []\n",
        "\n",
        "# Processar dados do arquivo JSON Lines do dataset complementar\n",
        "# Desconsidera os itens onde \"content\" está em branco. Com isso, os dados reduzem de 2.248.619 para 1.498.718\n",
        "# para utilizar menos recurso de processamento\n",
        "\n",
        "with open(r'/content/drive/MyDrive/finetuning/trn.json', 'r', encoding='utf-8') as file:\n",
        "    for line in file:\n",
        "        item = json.loads(line)\n",
        "        if item['content'] and item['content'].strip():\n",
        "           processed_data.append(process_line_complementary_dataset(item))\n",
        "print(len(processed_data))\n",
        "\n",
        "# Adicionar dados processados do arquivo JSON regular à mesma lista\n",
        "#process_titles_contents_file(r'/content/drive/MyDrive/finetuning/titles_contents.json', processed_data)\n",
        "\n",
        "# Salvar todos os dados processados em um arquivo JSON\n",
        "output_filename = r'/content/drive/MyDrive/finetuning/titles_dataset_chat_data.json'\n",
        "with open(output_filename, 'w', encoding='utf-8') as file:\n",
        "    json.dump(processed_data, file, ensure_ascii=False, indent=4)\n",
        "\n",
        "print(f\"Todos os dados reformatados foram salvos em '{output_filename}'.\")\n"
      ],
      "metadata": {
        "id": "9dF4NkQmZqv1",
        "colab": {
          "base_uri": "https://localhost:8080/"
        },
        "outputId": "e98ec397-a8ce-419b-dc35-d9224c46c4e5"
      },
      "execution_count": 8,
      "outputs": [
        {
          "output_type": "stream",
          "name": "stdout",
          "text": [
            "1498718\n",
            "Todos os dados reformatados foram salvos em '/content/drive/MyDrive/finetuning/titles_dataset_chat_data.json'.\n"
          ]
        }
      ]
    }
  ]
}
