{
  "nbformat": 4,
  "nbformat_minor": 0,
  "metadata": {
    "colab": {
      "provenance": [],
      "include_colab_link": true
    },
    "kernelspec": {
      "name": "python3",
      "display_name": "Python 3"
    },
    "language_info": {
      "name": "python"
    }
  },
  "cells": [
    {
      "cell_type": "markdown",
      "metadata": {
        "id": "view-in-github",
        "colab_type": "text"
      },
      "source": [
        "<a href=\"https://colab.research.google.com/github/AndreaFabro/Tech_fase3/blob/main/preparacao_dados.ipynb\" target=\"_parent\"><img src=\"https://colab.research.google.com/assets/colab-badge.svg\" alt=\"Open In Colab\"/></a>"
      ]
    },
    {
      "cell_type": "code",
      "source": [
        "#Conexão com o Google Drive\n",
        "#Para utilizar o repositorio para guardar o arquivo gerado\n",
        "from google.colab import drive\n",
        "drive.mount('/content/drive')"
      ],
      "metadata": {
        "id": "ZRRzGpR0av3o",
        "colab": {
          "base_uri": "https://localhost:8080/"
        },
        "outputId": "eed3bea4-3382-4167-bc00-f0ac731ab355"
      },
      "execution_count": 1,
      "outputs": [
        {
          "output_type": "stream",
          "name": "stdout",
          "text": [
            "Mounted at /content/drive\n"
          ]
        }
      ]
    },
    {
      "cell_type": "code",
      "execution_count": 6,
      "metadata": {
        "id": "VvXIUylQYIEr"
      },
      "outputs": [],
      "source": [
        "import json\n",
        "\n",
        "# Formatar cada linha de produto incluindo marcadores de inicio e fim de sentença\n",
        "# input: instrução, titulo e descrição\n",
        "\n",
        "def process_line_complementary_dataset(item):\n",
        "    #Processa cada linha do arquivo JSON\n",
        "      return {\n",
        "        \"input\": f\"DESCRIBE THIS PRODUCTS.\\n[|Title|] {item['title'].strip()}[|eTitle|]\\n\\n[|Content|]{item['content'].strip()}[|eContent|]\"\n",
        "        }\n"
      ]
    },
    {
      "cell_type": "code",
      "source": [
        "\n",
        "# Lista para armazenar todos os dados processados\n",
        "processed_data = []\n",
        "\n",
        "# Processar dados do arquivo JSON Lines do dataset complementar\n",
        "# Desconsideramos os itens onde \"content\" está em branco. Com isso, os dados reduzem de 2.248.619 para 1.498.718\n",
        "# Num próximo passo, retiramos os itens onde \"title\" está em branco. Com isso, os dados reduzem de 1.498.718 para 1.390.403\n",
        "# para utilizar menos recurso de processamento\n",
        "\n",
        "with open(r'/content/drive/MyDrive/finetuning/trn.json', 'r', encoding='utf-8') as file:\n",
        "    for line in file:\n",
        "        item = json.loads(line)\n",
        "        if item['title'] and item['title'].strip() and item['content'] and item['content'].strip():\n",
        "           processed_data.append(process_line_complementary_dataset(item))\n",
        "print(len(processed_data))\n",
        "\n",
        "# Salvar todos os dados processados em um arquivo JSON\n",
        "output_filename = r'/content/drive/MyDrive/finetuning/titles_dataset_chat_data.json'\n",
        "with open(output_filename, 'w', encoding='utf-8') as file:\n",
        "    json.dump(processed_data, file, ensure_ascii=False, indent=4)\n",
        "\n",
        "print(f\"Todos os dados reformatados foram salvos em '{output_filename}'.\")\n"
      ],
      "metadata": {
        "id": "9dF4NkQmZqv1",
        "colab": {
          "base_uri": "https://localhost:8080/"
        },
        "outputId": "ed122897-68e5-4a93-ffd7-321c500e70be"
      },
      "execution_count": 7,
      "outputs": [
        {
          "output_type": "stream",
          "name": "stdout",
          "text": [
            "1390403\n",
            "Todos os dados reformatados foram salvos em '/content/drive/MyDrive/finetuning/titles_dataset_chat_data.json'.\n"
          ]
        }
      ]
    }
  ]
}