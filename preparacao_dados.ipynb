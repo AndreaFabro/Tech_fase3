{
  "nbformat": 4,
  "nbformat_minor": 0,
  "metadata": {
    "colab": {
      "provenance": [],
      "include_colab_link": true
    },
    "kernelspec": {
      "name": "python3",
      "display_name": "Python 3"
    },
    "language_info": {
      "name": "python"
    }
  },
  "cells": [
    {
      "cell_type": "markdown",
      "metadata": {
        "id": "view-in-github",
        "colab_type": "text"
      },
      "source": [
        "<a href=\"https://colab.research.google.com/github/AndreaFabro/Tech_fase3/blob/main/preparacao_dados.ipynb\" target=\"_parent\"><img src=\"https://colab.research.google.com/assets/colab-badge.svg\" alt=\"Open In Colab\"/></a>"
      ]
    },
    {
      "cell_type": "code",
      "source": [
        "#Conexão com o Google Drive\n",
        "\n",
        "from google.colab import drive\n",
        "drive.mount('/content/drive')"
      ],
      "metadata": {
        "id": "ZRRzGpR0av3o",
        "colab": {
          "base_uri": "https://localhost:8080/"
        },
        "outputId": "f4890c20-0bbd-4570-a5d1-6249faff7866"
      },
      "execution_count": 1,
      "outputs": [
        {
          "output_type": "stream",
          "name": "stdout",
          "text": [
            "Mounted at /content/drive\n"
          ]
        }
      ]
    },
    {
      "cell_type": "code",
      "execution_count": 2,
      "metadata": {
        "id": "VvXIUylQYIEr"
      },
      "outputs": [],
      "source": [
        "import json\n",
        "\n",
        "def process_line_complementary_dataset(item):\n",
        "    #Processa cada linha do arquivo JSON Lines, que contém os campos 'story' e 'summary\n",
        "    return {\n",
        "        \"input\": f\"DESCRIBE THIS PRODUCTS.\\n[|Title|] {item['title']}[|eTitle|]\\n\\n[|content|]{item['content']}[|eContent|]\"\n",
        "    }\n",
        "\n",
        "def process_titles_contents_file(file_path, processed_data):\n",
        "    #Lê um arquivo JSON do nosso dataset, processa cada produto para formatar conforme o solicitado e adiciona à lista processed_data\n",
        "    with open(file_path, 'r', encoding='utf-8') as file:\n",
        "        json_data = json.load(file)\n",
        "        titles_list = json_data[\"titles_contents\"]\n",
        "\n",
        "        for item in titles_list:\n",
        "            title = item[\"title\"]\n",
        "            content = item[\"content\"]\n",
        "            formatted_text = f\"DESCRIBE THIS PRODUCTS.\\n[|Title|] {title}[|eTitle|]\\n\\n[|content|]{content}[|eContent|]\"\n",
        "            processed_data.append({\"input\": formatted_text})\n"
      ]
    },
    {
      "cell_type": "code",
      "source": [
        "\n",
        "# Lista para armazenar todos os dados processados\n",
        "processed_data = []\n",
        "\n",
        "# Processar dados do arquivo JSON Lines do dataset complementar\n",
        "with open(r'/content/drive/MyDrive/finetuning/trn.json', 'r', encoding='utf-8') as file:\n",
        "    for line in file:\n",
        "        item = json.loads(line)\n",
        "        processed_data.append(process_line_complementary_dataset(item))\n",
        "print(len(processed_data))\n",
        "\n",
        "# Adicionar dados processados do arquivo JSON regular à mesma lista\n",
        "#process_titles_contents_file(r'/content/drive/MyDrive/finetuning/titles_contents.json', processed_data)\n",
        "\n",
        "# Salvar todos os dados processados em um arquivo JSON\n",
        "output_filename = r'/content/drive/MyDrive/finetuning/titles_dataset_chat_data.json'\n",
        "with open(output_filename, 'w', encoding='utf-8') as file:\n",
        "    json.dump(processed_data, file, ensure_ascii=False, indent=4)\n",
        "\n",
        "print(f\"Todos os dados reformatados foram salvos em '{output_filename}'.\")\n"
      ],
      "metadata": {
        "id": "9dF4NkQmZqv1",
        "colab": {
          "base_uri": "https://localhost:8080/"
        },
        "outputId": "8c37afe2-27ce-4506-e154-663fd39907ce"
      },
      "execution_count": 5,
      "outputs": [
        {
          "output_type": "stream",
          "name": "stdout",
          "text": [
            "2248619\n",
            "Todos os dados reformatados foram salvos em '/content/drive/MyDrive/finetuning/titles_dataset_chat_data.json'.\n"
          ]
        }
      ]
    }
  ]
}